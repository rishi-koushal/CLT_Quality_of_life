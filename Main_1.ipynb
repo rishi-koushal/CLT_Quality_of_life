{
 "cells": [
  {
   "cell_type": "markdown",
   "metadata": {},
   "source": [
    "# Health Care Analysis in Charlotte County Wise"
   ]
  },
  {
   "cell_type": "markdown",
   "metadata": {},
   "source": [
    "Check for:\n",
    "\n",
    "Age: Sum of age at time of death for all deaths, divided by total number of deaths. These data are cumulative for the previous 24 months.\n",
    "\n",
    "Pharmacy Units: Number of housing units within ½-mile of a pharmacy.Only includes pharmacies located inside Mecklenburg County.\n",
    "\n"
   ]
  },
  {
   "cell_type": "code",
   "execution_count": 118,
   "metadata": {},
   "outputs": [],
   "source": [
    "import numpy as np\n",
    "import pandas as pd"
   ]
  },
  {
   "cell_type": "code",
   "execution_count": 119,
   "metadata": {},
   "outputs": [
    {
     "name": "stderr",
     "output_type": "stream",
     "text": [
      "/Users/rishikoushal/anaconda3/lib/python3.6/site-packages/pandas/util/_decorators.py:188: FutureWarning: The `sheetname` keyword is deprecated, use `sheet_name` instead\n",
      "  return func(*args, **kwargs)\n"
     ]
    }
   ],
   "source": [
    "health = pd.read_excel('QOL Data Download October 2018.xls', sheetname='Health')"
   ]
  },
  {
   "cell_type": "code",
   "execution_count": 120,
   "metadata": {},
   "outputs": [
    {
     "data": {
      "text/html": [
       "<div>\n",
       "<style scoped>\n",
       "    .dataframe tbody tr th:only-of-type {\n",
       "        vertical-align: middle;\n",
       "    }\n",
       "\n",
       "    .dataframe tbody tr th {\n",
       "        vertical-align: top;\n",
       "    }\n",
       "\n",
       "    .dataframe thead th {\n",
       "        text-align: right;\n",
       "    }\n",
       "</style>\n",
       "<table border=\"1\" class=\"dataframe\">\n",
       "  <thead>\n",
       "    <tr style=\"text-align: right;\">\n",
       "      <th></th>\n",
       "      <th>NPA</th>\n",
       "      <th>m28_2017</th>\n",
       "      <th>r28_2017</th>\n",
       "      <th>m28_2016</th>\n",
       "      <th>r28_2016</th>\n",
       "      <th>m45_2017</th>\n",
       "      <th>r45_2017</th>\n",
       "      <th>m45_2016</th>\n",
       "      <th>r45_2016</th>\n",
       "      <th>m45_2015</th>\n",
       "      <th>...</th>\n",
       "      <th>m56_2016</th>\n",
       "      <th>m56_2014</th>\n",
       "      <th>m56_2012</th>\n",
       "      <th>m57_2016</th>\n",
       "      <th>m57_2014</th>\n",
       "      <th>m57_2012</th>\n",
       "      <th>m57_2010</th>\n",
       "      <th>m81_2017</th>\n",
       "      <th>m81_2015</th>\n",
       "      <th>m81_2014</th>\n",
       "    </tr>\n",
       "  </thead>\n",
       "  <tbody>\n",
       "    <tr>\n",
       "      <th>0</th>\n",
       "      <td>NPA</td>\n",
       "      <td>Low_Cost_Healthcare_Proximity_2017</td>\n",
       "      <td>Low_Cost_Healthcare_Proximate_Units_2017</td>\n",
       "      <td>Low_Cost_Healthcare_Proximity_2016</td>\n",
       "      <td>Low_Cost_Healthcare_Proximate_Units_2016</td>\n",
       "      <td>Grocery_Proximity_2017</td>\n",
       "      <td>Grocery_Proximate_Units_2017</td>\n",
       "      <td>Grocery_Proximity_2016</td>\n",
       "      <td>Grocery_Proximate_Units_2016</td>\n",
       "      <td>Grocery_Proximity_2015</td>\n",
       "      <td>...</td>\n",
       "      <td>Prenatal_Care_2016</td>\n",
       "      <td>Prenatal_Care_2014</td>\n",
       "      <td>Prenatal_Care_2012</td>\n",
       "      <td>Age_of_Death_2016</td>\n",
       "      <td>Age_of_Death_2014</td>\n",
       "      <td>Age_of_Death_2012</td>\n",
       "      <td>Age_of_Death_2010</td>\n",
       "      <td>Public_Health_Insurance _2017</td>\n",
       "      <td>Public_Health_Insurance _2015</td>\n",
       "      <td>Public_Health_Insurance _2014</td>\n",
       "    </tr>\n",
       "    <tr>\n",
       "      <th>1</th>\n",
       "      <td>2</td>\n",
       "      <td>21</td>\n",
       "      <td>231</td>\n",
       "      <td>21</td>\n",
       "      <td>230</td>\n",
       "      <td>33</td>\n",
       "      <td>353</td>\n",
       "      <td>19</td>\n",
       "      <td>205</td>\n",
       "      <td>19</td>\n",
       "      <td>...</td>\n",
       "      <td>60</td>\n",
       "      <td>75.7</td>\n",
       "      <td>84.6</td>\n",
       "      <td>70</td>\n",
       "      <td>68</td>\n",
       "      <td>70</td>\n",
       "      <td>62</td>\n",
       "      <td>15</td>\n",
       "      <td>18</td>\n",
       "      <td>13</td>\n",
       "    </tr>\n",
       "    <tr>\n",
       "      <th>2</th>\n",
       "      <td>3</td>\n",
       "      <td>75</td>\n",
       "      <td>3976</td>\n",
       "      <td>85</td>\n",
       "      <td>4011</td>\n",
       "      <td>63</td>\n",
       "      <td>3349</td>\n",
       "      <td>66</td>\n",
       "      <td>3113</td>\n",
       "      <td>66</td>\n",
       "      <td>...</td>\n",
       "      <td>80.2</td>\n",
       "      <td>83</td>\n",
       "      <td>92.3</td>\n",
       "      <td>70</td>\n",
       "      <td>70</td>\n",
       "      <td>70</td>\n",
       "      <td>74</td>\n",
       "      <td>6</td>\n",
       "      <td>4</td>\n",
       "      <td>8</td>\n",
       "    </tr>\n",
       "    <tr>\n",
       "      <th>3</th>\n",
       "      <td>4</td>\n",
       "      <td>3</td>\n",
       "      <td>11</td>\n",
       "      <td>23</td>\n",
       "      <td>93</td>\n",
       "      <td>13</td>\n",
       "      <td>52</td>\n",
       "      <td>13</td>\n",
       "      <td>52</td>\n",
       "      <td>13</td>\n",
       "      <td>...</td>\n",
       "      <td>70.6</td>\n",
       "      <td>85.7</td>\n",
       "      <td>100</td>\n",
       "      <td>76</td>\n",
       "      <td>80</td>\n",
       "      <td>80</td>\n",
       "      <td>84</td>\n",
       "      <td>1</td>\n",
       "      <td>1</td>\n",
       "      <td>1</td>\n",
       "    </tr>\n",
       "    <tr>\n",
       "      <th>4</th>\n",
       "      <td>5</td>\n",
       "      <td>40</td>\n",
       "      <td>128</td>\n",
       "      <td>29</td>\n",
       "      <td>93</td>\n",
       "      <td>10</td>\n",
       "      <td>31</td>\n",
       "      <td>13</td>\n",
       "      <td>43</td>\n",
       "      <td>14</td>\n",
       "      <td>...</td>\n",
       "      <td>50</td>\n",
       "      <td>52.2</td>\n",
       "      <td>69.2</td>\n",
       "      <td>65</td>\n",
       "      <td>65</td>\n",
       "      <td>55</td>\n",
       "      <td>55</td>\n",
       "      <td>43</td>\n",
       "      <td>53</td>\n",
       "      <td>38</td>\n",
       "    </tr>\n",
       "  </tbody>\n",
       "</table>\n",
       "<p>5 rows × 50 columns</p>\n",
       "</div>"
      ],
      "text/plain": [
       "   NPA                            m28_2017  \\\n",
       "0  NPA  Low_Cost_Healthcare_Proximity_2017   \n",
       "1    2                                  21   \n",
       "2    3                                  75   \n",
       "3    4                                   3   \n",
       "4    5                                  40   \n",
       "\n",
       "                                   r28_2017  \\\n",
       "0  Low_Cost_Healthcare_Proximate_Units_2017   \n",
       "1                                       231   \n",
       "2                                      3976   \n",
       "3                                        11   \n",
       "4                                       128   \n",
       "\n",
       "                             m28_2016  \\\n",
       "0  Low_Cost_Healthcare_Proximity_2016   \n",
       "1                                  21   \n",
       "2                                  85   \n",
       "3                                  23   \n",
       "4                                  29   \n",
       "\n",
       "                                   r28_2016                m45_2017  \\\n",
       "0  Low_Cost_Healthcare_Proximate_Units_2016  Grocery_Proximity_2017   \n",
       "1                                       230                      33   \n",
       "2                                      4011                      63   \n",
       "3                                        93                      13   \n",
       "4                                        93                      10   \n",
       "\n",
       "                       r45_2017                m45_2016  \\\n",
       "0  Grocery_Proximate_Units_2017  Grocery_Proximity_2016   \n",
       "1                           353                      19   \n",
       "2                          3349                      66   \n",
       "3                            52                      13   \n",
       "4                            31                      13   \n",
       "\n",
       "                       r45_2016                m45_2015  ...  \\\n",
       "0  Grocery_Proximate_Units_2016  Grocery_Proximity_2015  ...   \n",
       "1                           205                      19  ...   \n",
       "2                          3113                      66  ...   \n",
       "3                            52                      13  ...   \n",
       "4                            43                      14  ...   \n",
       "\n",
       "             m56_2016            m56_2014            m56_2012  \\\n",
       "0  Prenatal_Care_2016  Prenatal_Care_2014  Prenatal_Care_2012   \n",
       "1                  60                75.7                84.6   \n",
       "2                80.2                  83                92.3   \n",
       "3                70.6                85.7                 100   \n",
       "4                  50                52.2                69.2   \n",
       "\n",
       "            m57_2016           m57_2014           m57_2012           m57_2010  \\\n",
       "0  Age_of_Death_2016  Age_of_Death_2014  Age_of_Death_2012  Age_of_Death_2010   \n",
       "1                 70                 68                 70                 62   \n",
       "2                 70                 70                 70                 74   \n",
       "3                 76                 80                 80                 84   \n",
       "4                 65                 65                 55                 55   \n",
       "\n",
       "                        m81_2017                       m81_2015  \\\n",
       "0  Public_Health_Insurance _2017  Public_Health_Insurance _2015   \n",
       "1                             15                             18   \n",
       "2                              6                              4   \n",
       "3                              1                              1   \n",
       "4                             43                             53   \n",
       "\n",
       "                        m81_2014  \n",
       "0  Public_Health_Insurance _2014  \n",
       "1                             13  \n",
       "2                              8  \n",
       "3                              1  \n",
       "4                             38  \n",
       "\n",
       "[5 rows x 50 columns]"
      ]
     },
     "execution_count": 120,
     "metadata": {},
     "output_type": "execute_result"
    }
   ],
   "source": [
    "health.head()"
   ]
  },
  {
   "cell_type": "code",
   "execution_count": 121,
   "metadata": {},
   "outputs": [],
   "source": [
    "health.columns = health.iloc[0]\n",
    "health.drop(0,axis=0,inplace=True)"
   ]
  },
  {
   "cell_type": "code",
   "execution_count": 122,
   "metadata": {},
   "outputs": [
    {
     "data": {
      "text/html": [
       "<div>\n",
       "<style scoped>\n",
       "    .dataframe tbody tr th:only-of-type {\n",
       "        vertical-align: middle;\n",
       "    }\n",
       "\n",
       "    .dataframe tbody tr th {\n",
       "        vertical-align: top;\n",
       "    }\n",
       "\n",
       "    .dataframe thead th {\n",
       "        text-align: right;\n",
       "    }\n",
       "</style>\n",
       "<table border=\"1\" class=\"dataframe\">\n",
       "  <thead>\n",
       "    <tr style=\"text-align: right;\">\n",
       "      <th></th>\n",
       "      <th>NPA</th>\n",
       "      <th>Low_Cost_Healthcare_Proximity_2017</th>\n",
       "      <th>Low_Cost_Healthcare_Proximate_Units_2017</th>\n",
       "      <th>Low_Cost_Healthcare_Proximity_2016</th>\n",
       "      <th>Low_Cost_Healthcare_Proximate_Units_2016</th>\n",
       "      <th>Grocery_Proximity_2017</th>\n",
       "      <th>Grocery_Proximate_Units_2017</th>\n",
       "      <th>Grocery_Proximity_2016</th>\n",
       "      <th>Grocery_Proximate_Units_2016</th>\n",
       "      <th>Grocery_Proximity_2015</th>\n",
       "      <th>...</th>\n",
       "      <th>Prenatal_Care_2016</th>\n",
       "      <th>Prenatal_Care_2014</th>\n",
       "      <th>Prenatal_Care_2012</th>\n",
       "      <th>Age_of_Death_2016</th>\n",
       "      <th>Age_of_Death_2014</th>\n",
       "      <th>Age_of_Death_2012</th>\n",
       "      <th>Age_of_Death_2010</th>\n",
       "      <th>Public_Health_Insurance _2017</th>\n",
       "      <th>Public_Health_Insurance _2015</th>\n",
       "      <th>Public_Health_Insurance _2014</th>\n",
       "    </tr>\n",
       "  </thead>\n",
       "  <tbody>\n",
       "    <tr>\n",
       "      <th>1</th>\n",
       "      <td>2</td>\n",
       "      <td>21</td>\n",
       "      <td>231</td>\n",
       "      <td>21</td>\n",
       "      <td>230</td>\n",
       "      <td>33</td>\n",
       "      <td>353</td>\n",
       "      <td>19</td>\n",
       "      <td>205</td>\n",
       "      <td>19</td>\n",
       "      <td>...</td>\n",
       "      <td>60</td>\n",
       "      <td>75.7</td>\n",
       "      <td>84.6</td>\n",
       "      <td>70</td>\n",
       "      <td>68</td>\n",
       "      <td>70</td>\n",
       "      <td>62</td>\n",
       "      <td>15</td>\n",
       "      <td>18</td>\n",
       "      <td>13</td>\n",
       "    </tr>\n",
       "    <tr>\n",
       "      <th>2</th>\n",
       "      <td>3</td>\n",
       "      <td>75</td>\n",
       "      <td>3976</td>\n",
       "      <td>85</td>\n",
       "      <td>4011</td>\n",
       "      <td>63</td>\n",
       "      <td>3349</td>\n",
       "      <td>66</td>\n",
       "      <td>3113</td>\n",
       "      <td>66</td>\n",
       "      <td>...</td>\n",
       "      <td>80.2</td>\n",
       "      <td>83</td>\n",
       "      <td>92.3</td>\n",
       "      <td>70</td>\n",
       "      <td>70</td>\n",
       "      <td>70</td>\n",
       "      <td>74</td>\n",
       "      <td>6</td>\n",
       "      <td>4</td>\n",
       "      <td>8</td>\n",
       "    </tr>\n",
       "    <tr>\n",
       "      <th>3</th>\n",
       "      <td>4</td>\n",
       "      <td>3</td>\n",
       "      <td>11</td>\n",
       "      <td>23</td>\n",
       "      <td>93</td>\n",
       "      <td>13</td>\n",
       "      <td>52</td>\n",
       "      <td>13</td>\n",
       "      <td>52</td>\n",
       "      <td>13</td>\n",
       "      <td>...</td>\n",
       "      <td>70.6</td>\n",
       "      <td>85.7</td>\n",
       "      <td>100</td>\n",
       "      <td>76</td>\n",
       "      <td>80</td>\n",
       "      <td>80</td>\n",
       "      <td>84</td>\n",
       "      <td>1</td>\n",
       "      <td>1</td>\n",
       "      <td>1</td>\n",
       "    </tr>\n",
       "    <tr>\n",
       "      <th>4</th>\n",
       "      <td>5</td>\n",
       "      <td>40</td>\n",
       "      <td>128</td>\n",
       "      <td>29</td>\n",
       "      <td>93</td>\n",
       "      <td>10</td>\n",
       "      <td>31</td>\n",
       "      <td>13</td>\n",
       "      <td>43</td>\n",
       "      <td>14</td>\n",
       "      <td>...</td>\n",
       "      <td>50</td>\n",
       "      <td>52.2</td>\n",
       "      <td>69.2</td>\n",
       "      <td>65</td>\n",
       "      <td>65</td>\n",
       "      <td>55</td>\n",
       "      <td>55</td>\n",
       "      <td>43</td>\n",
       "      <td>53</td>\n",
       "      <td>38</td>\n",
       "    </tr>\n",
       "    <tr>\n",
       "      <th>5</th>\n",
       "      <td>6</td>\n",
       "      <td>65</td>\n",
       "      <td>525</td>\n",
       "      <td>65</td>\n",
       "      <td>528</td>\n",
       "      <td>67</td>\n",
       "      <td>544</td>\n",
       "      <td>67</td>\n",
       "      <td>548</td>\n",
       "      <td>67</td>\n",
       "      <td>...</td>\n",
       "      <td>49.1</td>\n",
       "      <td>55.4</td>\n",
       "      <td>62.1</td>\n",
       "      <td>66</td>\n",
       "      <td>60</td>\n",
       "      <td>65</td>\n",
       "      <td>70</td>\n",
       "      <td>38</td>\n",
       "      <td>48</td>\n",
       "      <td>35</td>\n",
       "    </tr>\n",
       "  </tbody>\n",
       "</table>\n",
       "<p>5 rows × 50 columns</p>\n",
       "</div>"
      ],
      "text/plain": [
       "0 NPA Low_Cost_Healthcare_Proximity_2017  \\\n",
       "1   2                                 21   \n",
       "2   3                                 75   \n",
       "3   4                                  3   \n",
       "4   5                                 40   \n",
       "5   6                                 65   \n",
       "\n",
       "0 Low_Cost_Healthcare_Proximate_Units_2017 Low_Cost_Healthcare_Proximity_2016  \\\n",
       "1                                      231                                 21   \n",
       "2                                     3976                                 85   \n",
       "3                                       11                                 23   \n",
       "4                                      128                                 29   \n",
       "5                                      525                                 65   \n",
       "\n",
       "0 Low_Cost_Healthcare_Proximate_Units_2016 Grocery_Proximity_2017  \\\n",
       "1                                      230                     33   \n",
       "2                                     4011                     63   \n",
       "3                                       93                     13   \n",
       "4                                       93                     10   \n",
       "5                                      528                     67   \n",
       "\n",
       "0 Grocery_Proximate_Units_2017 Grocery_Proximity_2016  \\\n",
       "1                          353                     19   \n",
       "2                         3349                     66   \n",
       "3                           52                     13   \n",
       "4                           31                     13   \n",
       "5                          544                     67   \n",
       "\n",
       "0 Grocery_Proximate_Units_2016 Grocery_Proximity_2015  ... Prenatal_Care_2016  \\\n",
       "1                          205                     19  ...                 60   \n",
       "2                         3113                     66  ...               80.2   \n",
       "3                           52                     13  ...               70.6   \n",
       "4                           43                     14  ...                 50   \n",
       "5                          548                     67  ...               49.1   \n",
       "\n",
       "0 Prenatal_Care_2014 Prenatal_Care_2012 Age_of_Death_2016 Age_of_Death_2014  \\\n",
       "1               75.7               84.6                70                68   \n",
       "2                 83               92.3                70                70   \n",
       "3               85.7                100                76                80   \n",
       "4               52.2               69.2                65                65   \n",
       "5               55.4               62.1                66                60   \n",
       "\n",
       "0 Age_of_Death_2012 Age_of_Death_2010 Public_Health_Insurance _2017  \\\n",
       "1                70                62                            15   \n",
       "2                70                74                             6   \n",
       "3                80                84                             1   \n",
       "4                55                55                            43   \n",
       "5                65                70                            38   \n",
       "\n",
       "0 Public_Health_Insurance _2015 Public_Health_Insurance _2014  \n",
       "1                            18                            13  \n",
       "2                             4                             8  \n",
       "3                             1                             1  \n",
       "4                            53                            38  \n",
       "5                            48                            35  \n",
       "\n",
       "[5 rows x 50 columns]"
      ]
     },
     "execution_count": 122,
     "metadata": {},
     "output_type": "execute_result"
    }
   ],
   "source": [
    "health.head()"
   ]
  },
  {
   "cell_type": "code",
   "execution_count": 123,
   "metadata": {},
   "outputs": [],
   "source": [
    "NPA = pd.read_csv('NPA-NSA comparisson table.csv')"
   ]
  },
  {
   "cell_type": "code",
   "execution_count": 124,
   "metadata": {},
   "outputs": [
    {
     "data": {
      "text/html": [
       "<div>\n",
       "<style scoped>\n",
       "    .dataframe tbody tr th:only-of-type {\n",
       "        vertical-align: middle;\n",
       "    }\n",
       "\n",
       "    .dataframe tbody tr th {\n",
       "        vertical-align: top;\n",
       "    }\n",
       "\n",
       "    .dataframe thead th {\n",
       "        text-align: right;\n",
       "    }\n",
       "</style>\n",
       "<table border=\"1\" class=\"dataframe\">\n",
       "  <thead>\n",
       "    <tr style=\"text-align: right;\">\n",
       "      <th></th>\n",
       "      <th>NPA #</th>\n",
       "      <th>NSA Name</th>\n",
       "      <th>Unnamed: 2</th>\n",
       "    </tr>\n",
       "  </thead>\n",
       "  <tbody>\n",
       "    <tr>\n",
       "      <th>0</th>\n",
       "      <td>2</td>\n",
       "      <td>Briarcreek-Woodland</td>\n",
       "      <td>NaN</td>\n",
       "    </tr>\n",
       "    <tr>\n",
       "      <th>1</th>\n",
       "      <td>3</td>\n",
       "      <td>Dilworth</td>\n",
       "      <td>NaN</td>\n",
       "    </tr>\n",
       "    <tr>\n",
       "      <th>2</th>\n",
       "      <td>4</td>\n",
       "      <td>Foxcroft</td>\n",
       "      <td>NaN</td>\n",
       "    </tr>\n",
       "    <tr>\n",
       "      <th>3</th>\n",
       "      <td>5</td>\n",
       "      <td>Enderly Park</td>\n",
       "      <td>NaN</td>\n",
       "    </tr>\n",
       "    <tr>\n",
       "      <th>4</th>\n",
       "      <td>6</td>\n",
       "      <td>Enderly Park</td>\n",
       "      <td>NaN</td>\n",
       "    </tr>\n",
       "  </tbody>\n",
       "</table>\n",
       "</div>"
      ],
      "text/plain": [
       "   NPA #             NSA Name Unnamed: 2\n",
       "0      2  Briarcreek-Woodland        NaN\n",
       "1      3             Dilworth        NaN\n",
       "2      4             Foxcroft        NaN\n",
       "3      5         Enderly Park        NaN\n",
       "4      6         Enderly Park        NaN"
      ]
     },
     "execution_count": 124,
     "metadata": {},
     "output_type": "execute_result"
    }
   ],
   "source": [
    "NPA.head()"
   ]
  },
  {
   "cell_type": "code",
   "execution_count": 125,
   "metadata": {},
   "outputs": [],
   "source": [
    "NPA.drop(['Unnamed: 2'],axis=1,inplace=True)"
   ]
  },
  {
   "cell_type": "code",
   "execution_count": 126,
   "metadata": {},
   "outputs": [],
   "source": [
    "features = ['Age_of_Death_2010','Age_of_Death_2012','Age_of_Death_2014','Age_of_Death_2016']"
   ]
  },
  {
   "cell_type": "code",
   "execution_count": 127,
   "metadata": {},
   "outputs": [],
   "source": [
    "health['Age_of_Death_2010'].mean()\n",
    "health['Age_of_Death_2010'].fillna(68,inplace=True)"
   ]
  },
  {
   "cell_type": "code",
   "execution_count": 128,
   "metadata": {},
   "outputs": [],
   "source": [
    "health['Age_of_Death_2012'].mean()\n",
    "health['Age_of_Death_2012'].fillna(68,inplace=True)"
   ]
  },
  {
   "cell_type": "code",
   "execution_count": 129,
   "metadata": {},
   "outputs": [],
   "source": [
    "health['Age_of_Death_2014'].mean()\n",
    "health['Age_of_Death_2014'].fillna(69,inplace=True)"
   ]
  },
  {
   "cell_type": "code",
   "execution_count": 130,
   "metadata": {},
   "outputs": [],
   "source": [
    "health['Age_of_Death_2016'].mean()\n",
    "health['Age_of_Death_2016'].fillna(69,inplace=True)"
   ]
  },
  {
   "cell_type": "code",
   "execution_count": 131,
   "metadata": {},
   "outputs": [],
   "source": [
    "features = ['Age_of_Death_2010','Age_of_Death_2012','Age_of_Death_2014']\n",
    "X = health[features]\n",
    "y = health['Age_of_Death_2016']"
   ]
  },
  {
   "cell_type": "code",
   "execution_count": 132,
   "metadata": {},
   "outputs": [],
   "source": [
    "from sklearn.model_selection import train_test_split\n",
    "X_train, X_test, y_train, y_test = train_test_split(X,y,test_size=0.2,random_state=42)"
   ]
  },
  {
   "cell_type": "code",
   "execution_count": 133,
   "metadata": {},
   "outputs": [],
   "source": [
    "from sklearn.linear_model import LinearRegression\n",
    "model = LinearRegression()"
   ]
  },
  {
   "cell_type": "code",
   "execution_count": 134,
   "metadata": {},
   "outputs": [
    {
     "data": {
      "text/plain": [
       "LinearRegression(copy_X=True, fit_intercept=True, n_jobs=None,\n",
       "         normalize=False)"
      ]
     },
     "execution_count": 134,
     "metadata": {},
     "output_type": "execute_result"
    }
   ],
   "source": [
    "model.fit(X_train,y_train)"
   ]
  },
  {
   "cell_type": "code",
   "execution_count": 135,
   "metadata": {},
   "outputs": [],
   "source": [
    "y_pred = model.predict(X_test)"
   ]
  },
  {
   "cell_type": "code",
   "execution_count": 136,
   "metadata": {},
   "outputs": [],
   "source": [
    "from sklearn.metrics import classification_report, confusion_matrix, mean_squared_error"
   ]
  },
  {
   "cell_type": "code",
   "execution_count": 137,
   "metadata": {},
   "outputs": [
    {
     "data": {
      "text/plain": [
       "52.947286632301456"
      ]
     },
     "execution_count": 137,
     "metadata": {},
     "output_type": "execute_result"
    }
   ],
   "source": [
    "mean_squared_error(y_test,y_pred)"
   ]
  },
  {
   "cell_type": "code",
   "execution_count": 138,
   "metadata": {
    "scrolled": true
   },
   "outputs": [
    {
     "name": "stdout",
     "output_type": "stream",
     "text": [
      "7.276488619677863\n"
     ]
    }
   ],
   "source": [
    "RMSE = mean_squared_error(y_test,y_pred) ** 0.5\n",
    "print(RMSE)"
   ]
  },
  {
   "cell_type": "code",
   "execution_count": 139,
   "metadata": {},
   "outputs": [],
   "source": [
    "features = ['Age_of_Death_2012','Age_of_Death_2014','Age_of_Death_2016']\n",
    "X = health[features]"
   ]
  },
  {
   "cell_type": "code",
   "execution_count": 140,
   "metadata": {},
   "outputs": [],
   "source": [
    "y_pred = model.predict(X)"
   ]
  },
  {
   "cell_type": "code",
   "execution_count": 141,
   "metadata": {},
   "outputs": [],
   "source": [
    "health['Age_of_Death_2019'] = y_pred"
   ]
  },
  {
   "cell_type": "code",
   "execution_count": 142,
   "metadata": {},
   "outputs": [
    {
     "data": {
      "text/plain": [
       "67.53246753246754"
      ]
     },
     "execution_count": 142,
     "metadata": {},
     "output_type": "execute_result"
    }
   ],
   "source": [
    "health['Age_of_Death_2010'].mean()"
   ]
  },
  {
   "cell_type": "code",
   "execution_count": 143,
   "metadata": {},
   "outputs": [
    {
     "data": {
      "text/plain": [
       "68.71428571428571"
      ]
     },
     "execution_count": 143,
     "metadata": {},
     "output_type": "execute_result"
    }
   ],
   "source": [
    "health['Age_of_Death_2012'].mean()"
   ]
  },
  {
   "cell_type": "code",
   "execution_count": 144,
   "metadata": {},
   "outputs": [
    {
     "data": {
      "text/plain": [
       "68.83333333333333"
      ]
     },
     "execution_count": 144,
     "metadata": {},
     "output_type": "execute_result"
    }
   ],
   "source": [
    "health['Age_of_Death_2014'].mean()"
   ]
  },
  {
   "cell_type": "code",
   "execution_count": 145,
   "metadata": {},
   "outputs": [
    {
     "data": {
      "text/plain": [
       "68.98484848484848"
      ]
     },
     "execution_count": 145,
     "metadata": {},
     "output_type": "execute_result"
    }
   ],
   "source": [
    "health['Age_of_Death_2016'].mean()"
   ]
  },
  {
   "cell_type": "code",
   "execution_count": 146,
   "metadata": {},
   "outputs": [
    {
     "data": {
      "text/plain": [
       "69.47394567191587"
      ]
     },
     "execution_count": 146,
     "metadata": {},
     "output_type": "execute_result"
    }
   ],
   "source": [
    "health['Age_of_Death_2019'].mean()"
   ]
  },
  {
   "cell_type": "code",
   "execution_count": 147,
   "metadata": {},
   "outputs": [
    {
     "data": {
      "text/plain": [
       "Text(0, 0.5, 'Mean Age')"
      ]
     },
     "execution_count": 147,
     "metadata": {},
     "output_type": "execute_result"
    },
    {
     "data": {
      "image/png": "[encoded data removed]",
      "text/plain": [
       "<Figure size 432x288 with 1 Axes>"
      ]
     },
     "metadata": {
      "needs_background": "light"
     },
     "output_type": "display_data"
    }
   ],
   "source": [
    "y = [health['Age_of_Death_2010'].mean(),health['Age_of_Death_2012'].mean(),health['Age_of_Death_2014'].mean(),health['Age_of_Death_2016'].mean(),health['Age_of_Death_2019'].mean()]\n",
    "x = [2010,2012,2014,2016,2019]\n",
    "plt.plot(x,y,marker='.')\n",
    "plt.xlabel('year')\n",
    "plt.ylabel('Mean Age')"
   ]
  },
  {
   "cell_type": "code",
   "execution_count": 163,
   "metadata": {},
   "outputs": [
    {
     "data": {
      "text/plain": [
       "0"
      ]
     },
     "execution_count": 163,
     "metadata": {},
     "output_type": "execute_result"
    }
   ],
   "source": []
  },
  {
   "cell_type": "code",
   "execution_count": 160,
   "metadata": {},
   "outputs": [],
   "source": [
    "health['Pharmacy_Proximate_Units_2011'].mean()\n",
    "health['Pharmacy_Proximate_Units_2011'].fillna(267,inplace=True)"
   ]
  },
  {
   "cell_type": "code",
   "execution_count": 151,
   "metadata": {},
   "outputs": [],
   "source": [
    "health['Pharmacy_Proximate_Units_2013'].mean()\n",
    "health['Pharmacy_Proximate_Units_2013'].fillna(287,inplace=True)"
   ]
  },
  {
   "cell_type": "code",
   "execution_count": 153,
   "metadata": {},
   "outputs": [],
   "source": [
    "health['Pharmacy_Proximate_Units_2015'].mean()\n",
    "health['Pharmacy_Proximate_Units_2015'].fillna(300,inplace=True)"
   ]
  },
  {
   "cell_type": "code",
   "execution_count": 166,
   "metadata": {},
   "outputs": [],
   "source": [
    "health['Pharmacy_Proximate_Units_2016'].mean()\n",
    "health['Pharmacy_Proximate_Units_2016'].fillna(310,inplace=True)"
   ]
  },
  {
   "cell_type": "code",
   "execution_count": 167,
   "metadata": {},
   "outputs": [],
   "source": [
    "health['Pharmacy_Proximate_Units_2017'].mean()\n",
    "health['Pharmacy_Proximate_Units_2017'].fillna(282,inplace=True)"
   ]
  },
  {
   "cell_type": "code",
   "execution_count": 168,
   "metadata": {},
   "outputs": [],
   "source": [
    "features = ['Pharmacy_Proximate_Units_2011','Pharmacy_Proximate_Units_2013','Pharmacy_Proximate_Units_2015','Pharmacy_Proximate_Units_2016']\n",
    "X = health[features]\n",
    "y = health['Pharmacy_Proximate_Units_2017']"
   ]
  },
  {
   "cell_type": "code",
   "execution_count": 169,
   "metadata": {},
   "outputs": [
    {
     "data": {
      "text/plain": [
       "0\n",
       "Pharmacy_Proximate_Units_2011    0\n",
       "Pharmacy_Proximate_Units_2013    0\n",
       "Pharmacy_Proximate_Units_2015    0\n",
       "Pharmacy_Proximate_Units_2016    0\n",
       "dtype: int64"
      ]
     },
     "execution_count": 169,
     "metadata": {},
     "output_type": "execute_result"
    }
   ],
   "source": [
    "X.isnull().sum()"
   ]
  },
  {
   "cell_type": "code",
   "execution_count": 170,
   "metadata": {},
   "outputs": [
    {
     "data": {
      "text/plain": [
       "LinearRegression(copy_X=True, fit_intercept=True, n_jobs=None,\n",
       "         normalize=False)"
      ]
     },
     "execution_count": 170,
     "metadata": {},
     "output_type": "execute_result"
    }
   ],
   "source": [
    "X_train, X_test, y_train, y_test = train_test_split(X,y,test_size=0.2,random_state=42)\n",
    "model.fit(X_train,y_train)"
   ]
  },
  {
   "cell_type": "code",
   "execution_count": 171,
   "metadata": {},
   "outputs": [],
   "source": [
    "y_pred = model.predict(X_test)"
   ]
  },
  {
   "cell_type": "code",
   "execution_count": 172,
   "metadata": {},
   "outputs": [
    {
     "data": {
      "text/plain": [
       "95.84478940547022"
      ]
     },
     "execution_count": 172,
     "metadata": {},
     "output_type": "execute_result"
    }
   ],
   "source": [
    "mean_squared_error(y_test,y_pred) ** 0.5"
   ]
  },
  {
   "cell_type": "code",
   "execution_count": 173,
   "metadata": {},
   "outputs": [],
   "source": [
    "features = ['Pharmacy_Proximate_Units_2013','Pharmacy_Proximate_Units_2015','Pharmacy_Proximate_Units_2016','Pharmacy_Proximate_Units_2017']\n",
    "X = health[features]"
   ]
  },
  {
   "cell_type": "code",
   "execution_count": 174,
   "metadata": {},
   "outputs": [],
   "source": [
    "y_pred = model.predict(X)"
   ]
  },
  {
   "cell_type": "code",
   "execution_count": 175,
   "metadata": {},
   "outputs": [],
   "source": [
    "health['Pharmacy_Proximate_Units_2019'] = y_pred"
   ]
  },
  {
   "cell_type": "code",
   "execution_count": 176,
   "metadata": {},
   "outputs": [
    {
     "data": {
      "text/plain": [
       "251.88139543403761"
      ]
     },
     "execution_count": 176,
     "metadata": {},
     "output_type": "execute_result"
    }
   ],
   "source": [
    "health['Pharmacy_Proximate_Units_2019'].mean()"
   ]
  },
  {
   "cell_type": "code",
   "execution_count": 185,
   "metadata": {},
   "outputs": [
    {
     "name": "stdout",
     "output_type": "stream",
     "text": [
      "Accuracy: 0.89 (+/- 0.17)\n"
     ]
    }
   ],
   "source": [
    "from sklearn.model_selection import cross_val_score\n",
    "values = cross_val_score(model, X_train, y_train, cv=5)\n",
    "print(\"Accuracy: %0.2f (+/- %0.2f)\" % (values.mean(), values.std() * 2))"
   ]
  },
  {
   "cell_type": "code",
   "execution_count": 190,
   "metadata": {},
   "outputs": [],
   "source": [
    "health['Public_Health_Insurance _2014'].fillna(16,inplace=True)"
   ]
  },
  {
   "cell_type": "code",
   "execution_count": 194,
   "metadata": {},
   "outputs": [],
   "source": [
    "health['Public_Health_Insurance _2015'].mean()\n",
    "health['Public_Health_Insurance _2015'].fillna(19,inplace=True)"
   ]
  },
  {
   "cell_type": "code",
   "execution_count": 196,
   "metadata": {},
   "outputs": [],
   "source": [
    "health['Public_Health_Insurance _2017'].mean()\n",
    "health['Public_Health_Insurance _2017'].fillna(16,inplace=True)"
   ]
  },
  {
   "cell_type": "code",
   "execution_count": null,
   "metadata": {},
   "outputs": [],
   "source": [
    "insurance featre"
   ]
  },
  {
   "cell_type": "code",
   "execution_count": 197,
   "metadata": {},
   "outputs": [],
   "source": [
    "y_pred = model.predict(X)"
   ]
  },
  {
   "cell_type": "code",
   "execution_count": 198,
   "metadata": {},
   "outputs": [],
   "source": [
    "health['Public_Health_Insurance _2019'] = y_pred"
   ]
  },
  {
   "cell_type": "code",
   "execution_count": 202,
   "metadata": {},
   "outputs": [
    {
     "data": {
      "text/plain": [
       "Text(0, 0.5, 'Mean No. of Units')"
      ]
     },
     "execution_count": 202,
     "metadata": {},
     "output_type": "execute_result"
    },
    {
     "data": {
      "image/png": "[encoded data removed]",
      "text/plain": [
       "<Figure size 432x288 with 1 Axes>"
      ]
     },
     "metadata": {
      "needs_background": "light"
     },
     "output_type": "display_data"
    }
   ],
   "source": [
    "y = [health['Pharmacy_Proximate_Units_2011'].mean(),health['Pharmacy_Proximate_Units_2013'].mean(),health['Pharmacy_Proximate_Units_2015'].mean(),health['Pharmacy_Proximate_Units_2016'].mean(),health['Pharmacy_Proximate_Units_2017'].mean(),health['Pharmacy_Proximate_Units_2019'].mean()]\n",
    "x = [2011,2013,2015,2016,2017,2019]\n",
    "plt.plot(x,y,marker='.')\n",
    "plt.xlabel('year')\n",
    "plt.ylabel('Mean No. of Units')"
   ]
  },
  {
   "cell_type": "code",
   "execution_count": 203,
   "metadata": {},
   "outputs": [
    {
     "data": {
      "text/plain": [
       "Text(0, 0.5, 'Mean No. of Units')"
      ]
     },
     "execution_count": 203,
     "metadata": {},
     "output_type": "execute_result"
    },
    {
     "data": {
      "image/png": "[encoded data removed]",
      "text/plain": [
       "<Figure size 432x288 with 1 Axes>"
      ]
     },
     "metadata": {
      "needs_background": "light"
     },
     "output_type": "display_data"
    }
   ],
   "source": [
    "y = [health['Public_Health_Insurance _2014'].mean(),health['Public_Health_Insurance _2015'].mean(),health['Public_Health_Insurance _2017'].mean(),health['Public_Health_Insurance _2019'].mean()]\n",
    "x = [2014,2015,2017,2019]\n",
    "plt.plot(x,y,marker='.')\n",
    "plt.xlabel('year')\n",
    "plt.ylabel('Mean No. of Units')"
   ]
  },
  {
   "cell_type": "code",
   "execution_count": null,
   "metadata": {},
   "outputs": [],
   "source": []
  }
 ],
 "metadata": {
  "kernelspec": {
   "display_name": "Python 3",
   "language": "python",
   "name": "python3"
  },
  "language_info": {
   "codemirror_mode": {
    "name": "ipython",
    "version": 3
   },
   "file_extension": ".py",
   "mimetype": "text/x-python",
   "name": "python",
   "nbconvert_exporter": "python",
   "pygments_lexer": "ipython3",
   "version": "3.6.8"
  }
 },
 "nbformat": 4,
 "nbformat_minor": 2
}
